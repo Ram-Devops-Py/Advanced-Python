{
 "cells": [
  {
   "cell_type": "code",
   "execution_count": 7,
   "metadata": {},
   "outputs": [
    {
     "name": "stdout",
     "output_type": "stream",
     "text": [
      "0 1 2 3 4 5 6 7 8 9 10 11 "
     ]
    }
   ],
   "source": [
    "#The end specifies the character that needs to be printed after printing the value. \n",
    "#By default, it prints a new line character.\n",
    "\n",
    "import numpy as np\n",
    "\n",
    "a = np.arange(12)\n",
    "for b in a:\n",
    "    print(b, end= ' ')"
   ]
  },
  {
   "cell_type": "code",
   "execution_count": 8,
   "metadata": {},
   "outputs": [
    {
     "name": "stdout",
     "output_type": "stream",
     "text": [
      "[['Households' 'Food&Nutrition' 'Casmotics' 'Frozen']\n",
      " ['15' '30' '10' '10']\n",
      " ['3' '10' '5' '4']]\n"
     ]
    }
   ],
   "source": [
    "#Multi dimentional array\n",
    "\n",
    "products = np.array([['Households','Food&Nutrition','Casmotics','Frozen'],['3','10','5','4'],['15','30','10','10']])\n",
    "print(products)"
   ]
  },
  {
   "cell_type": "code",
   "execution_count": 9,
   "metadata": {},
   "outputs": [
    {
     "name": "stdout",
     "output_type": "stream",
     "text": [
      "Households\n",
      "Food&Nutrition\n",
      "Casmotics\n",
      "Frozen\n",
      "15\n",
      "30\n",
      "10\n",
      "10\n",
      "3\n",
      "10\n",
      "5\n",
      "4\n"
     ]
    }
   ],
   "source": [
    "# Floatening order row wise\n",
    "\n",
    "for x in products.flatten():\n",
    "    print(x)    "
   ]
  },
  {
   "cell_type": "code",
   "execution_count": 12,
   "metadata": {},
   "outputs": [
    {
     "name": "stdout",
     "output_type": "stream",
     "text": [
      "Households\n",
      "3\n",
      "15\n",
      "Food&Nutrition\n",
      "10\n",
      "30\n",
      "Casmotics\n",
      "5\n",
      "10\n",
      "Frozen\n",
      "4\n",
      "10\n"
     ]
    }
   ],
   "source": [
    "# Floatening order colum wise\n",
    "\n",
    "products = np.array([['Households','Food&Nutrition','Casmotics','Frozen'],['3','10','5','4'],['15','30','10','10']])\n",
    "\n",
    "for x in products.flatten(order = 'F'):\n",
    "    print(x)"
   ]
  },
  {
   "cell_type": "code",
   "execution_count": 13,
   "metadata": {},
   "outputs": [
    {
     "name": "stdout",
     "output_type": "stream",
     "text": [
      "Households\n",
      "Food&Nutrition\n",
      "Casmotics\n",
      "Frozen\n",
      "3\n",
      "10\n",
      "5\n",
      "4\n",
      "15\n",
      "30\n",
      "10\n",
      "10\n"
     ]
    }
   ],
   "source": [
    "products = np.array([['Households','Food&Nutrition','Casmotics','Frozen'],['3','10','5','4'],['15','30','10','10']])\n",
    "\n",
    "for x in products.flatten(order = 'A'):\n",
    "    print(x)\n"
   ]
  },
  {
   "cell_type": "code",
   "execution_count": 16,
   "metadata": {},
   "outputs": [
    {
     "name": "stdout",
     "output_type": "stream",
     "text": [
      "Households\n",
      "Food&Nutrition\n",
      "Casmotics\n",
      "Frozen\n",
      "3\n",
      "10\n",
      "5\n",
      "4\n",
      "15\n",
      "30\n",
      "10\n",
      "10\n"
     ]
    }
   ],
   "source": [
    "products = np.array([['Households','Food&Nutrition','Casmotics','Frozen'],['3','10','5','4'],['15','30','10','10']])\n",
    "\n",
    "for x in products.flatten(order = 'K'):\n",
    "    print(x)"
   ]
  },
  {
   "cell_type": "code",
   "execution_count": 17,
   "metadata": {},
   "outputs": [
    {
     "data": {
      "text/plain": [
       "array([[ 0,  1,  2],\n",
       "       [ 3,  4,  5],\n",
       "       [ 6,  7,  8],\n",
       "       [ 9, 10, 11],\n",
       "       [12, 13, 14]])"
      ]
     },
     "execution_count": 17,
     "metadata": {},
     "output_type": "execute_result"
    }
   ],
   "source": [
    "# nditer\n",
    "#Iterating a Two-dimensional Array\n",
    "\n",
    "x = np.arange(15).reshape(5,3)\n",
    "x"
   ]
  },
  {
   "cell_type": "code",
   "execution_count": 18,
   "metadata": {},
   "outputs": [
    {
     "name": "stdout",
     "output_type": "stream",
     "text": [
      "0\n",
      "1\n",
      "2\n",
      "3\n",
      "4\n",
      "5\n",
      "6\n",
      "7\n",
      "8\n",
      "9\n",
      "10\n",
      "11\n",
      "12\n",
      "13\n",
      "14\n"
     ]
    }
   ],
   "source": [
    "for i in np.nditer(x):\n",
    "    print(i)"
   ]
  },
  {
   "cell_type": "code",
   "execution_count": 19,
   "metadata": {},
   "outputs": [
    {
     "name": "stdout",
     "output_type": "stream",
     "text": [
      "0\n",
      "3\n",
      "6\n",
      "9\n",
      "12\n",
      "1\n",
      "4\n",
      "7\n",
      "10\n",
      "13\n",
      "2\n",
      "5\n",
      "8\n",
      "11\n",
      "14\n"
     ]
    }
   ],
   "source": [
    "#Colum iteration \n",
    "for i in np.nditer(x, order = 'F'):\n",
    "    print(i)"
   ]
  },
  {
   "cell_type": "code",
   "execution_count": 20,
   "metadata": {},
   "outputs": [
    {
     "name": "stdout",
     "output_type": "stream",
     "text": [
      "[ 0  3  6  9 12]\n",
      "[ 1  4  7 10 13]\n",
      "[ 2  5  8 11 14]\n"
     ]
    }
   ],
   "source": [
    "# Flags\n",
    "\n",
    "for i in np.nditer(x, order = 'F', flags=['external_loop'] ):\n",
    "    print(i)"
   ]
  },
  {
   "cell_type": "code",
   "execution_count": null,
   "metadata": {},
   "outputs": [],
   "source": []
  }
 ],
 "metadata": {
  "kernelspec": {
   "display_name": "Python 3",
   "language": "python",
   "name": "python3"
  },
  "language_info": {
   "codemirror_mode": {
    "name": "ipython",
    "version": 3
   },
   "file_extension": ".py",
   "mimetype": "text/x-python",
   "name": "python",
   "nbconvert_exporter": "python",
   "pygments_lexer": "ipython3",
   "version": "3.7.3"
  }
 },
 "nbformat": 4,
 "nbformat_minor": 2
}
