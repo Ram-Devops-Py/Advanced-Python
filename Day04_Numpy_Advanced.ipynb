{
 "cells": [
  {
   "cell_type": "code",
   "execution_count": 6,
   "metadata": {},
   "outputs": [
    {
     "data": {
      "text/plain": [
       "array([0, 1, 2, 3, 4, 5, 6, 7, 8, 9])"
      ]
     },
     "execution_count": 6,
     "metadata": {},
     "output_type": "execute_result"
    }
   ],
   "source": [
    "#Splitting of an array operations:\n",
    "import numpy as np\n",
    "x = np.arange(10)\n",
    "x"
   ]
  },
  {
   "cell_type": "code",
   "execution_count": 10,
   "metadata": {},
   "outputs": [
    {
     "name": "stdout",
     "output_type": "stream",
     "text": [
      "Split the array at using in-built method split():\n"
     ]
    },
    {
     "data": {
      "text/plain": [
       "[array([0, 1, 2, 3, 4]), array([5, 6, 7, 8, 9])]"
      ]
     },
     "execution_count": 10,
     "metadata": {},
     "output_type": "execute_result"
    }
   ],
   "source": [
    "#Split the array by which devisible by an arry of elements\n",
    "print(\"Split the array at using in-built method split():\")\n",
    "np.split(x,2)"
   ]
  },
  {
   "cell_type": "code",
   "execution_count": 11,
   "metadata": {},
   "outputs": [
    {
     "name": "stdout",
     "output_type": "stream",
     "text": [
      "split the array at required position:\n"
     ]
    },
    {
     "data": {
      "text/plain": [
       "[array([0, 1, 2]), array([3, 4, 5, 6]), array([7, 8, 9])]"
      ]
     },
     "execution_count": 11,
     "metadata": {},
     "output_type": "execute_result"
    }
   ],
   "source": [
    "#Custom Split \n",
    "print(\"split the array at required position:\")\n",
    "np.split(x,[3,7])"
   ]
  },
  {
   "cell_type": "code",
   "execution_count": 23,
   "metadata": {},
   "outputs": [
    {
     "name": "stdout",
     "output_type": "stream",
     "text": [
      "[['India' 'Delhi']\n",
      " ['United Kingdom' 'London']]\n",
      "[['Nepal' 'Kathmandu']\n",
      " ['United States' 'Washington']]\n"
     ]
    }
   ],
   "source": [
    "#Horizontal split\n",
    "C = np.array([('India','Delhi','Nepal','Kathmandu'), ('United Kingdom','London','United States','Washington')])\n",
    "p1,p2= np.hsplit(C,2)\n",
    "print(p1)\n",
    "print(p2)"
   ]
  },
  {
   "cell_type": "code",
   "execution_count": 24,
   "metadata": {},
   "outputs": [
    {
     "name": "stdout",
     "output_type": "stream",
     "text": [
      "[['India' 'Delhi' 'Nepal' 'Kathmandu']]\n",
      "[['United Kingdom' 'London' 'United States' 'Washington']]\n"
     ]
    }
   ],
   "source": [
    "p_1,p_2=np.vsplit(C,2)\n",
    "print(p_1)\n",
    "print(p_2)"
   ]
  },
  {
   "cell_type": "code",
   "execution_count": null,
   "metadata": {},
   "outputs": [],
   "source": []
  }
 ],
 "metadata": {
  "kernelspec": {
   "display_name": "Python 3",
   "language": "python",
   "name": "python3"
  },
  "language_info": {
   "codemirror_mode": {
    "name": "ipython",
    "version": 3
   },
   "file_extension": ".py",
   "mimetype": "text/x-python",
   "name": "python",
   "nbconvert_exporter": "python",
   "pygments_lexer": "ipython3",
   "version": "3.7.3"
  }
 },
 "nbformat": 4,
 "nbformat_minor": 2
}
